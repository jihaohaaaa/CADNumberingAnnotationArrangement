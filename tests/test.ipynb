{
 "cells": [
  {
   "cell_type": "markdown",
   "id": "84d76c3c",
   "metadata": {},
   "source": [
    "### 导入所需要的包"
   ]
  },
  {
   "cell_type": "code",
   "execution_count": null,
   "id": "05ce9b46",
   "metadata": {},
   "outputs": [],
   "source": [
    "import sys\n",
    "import os\n",
    "\n",
    "# 添加 src 到路径, 便于导入\n",
    "sys.path.append(os.path.abspath(os.path.join(os.path.dirname(\"__file__\"), \"../src\")))\n",
    "\n",
    "%matplotlib widget\n",
    "\n",
    "import json\n",
    "from rich import print\n",
    "\n",
    "# 自定义模块导入\n",
    "from display_class import plot_schema, plot_geometries\n",
    "from CADAlgo.generate import underlying_generate_solution\n",
    "from CADAlgo.parser import parse_schema"
   ]
  },
  {
   "cell_type": "code",
   "execution_count": null,
   "id": "6e17ec5a",
   "metadata": {},
   "outputs": [],
   "source": [
    "def test_from_json(path: str):\n",
    "    with open(path, \"r\", encoding=\"utf-8\") as f:\n",
    "        final_result_dict = json.load(f)\n",
    "    schema = parse_schema(final_result_dict)\n",
    "\n",
    "    lines = schema.generate_solution()\n",
    "\n",
    "    _, ax = plot_schema(schema)\n",
    "\n",
    "    # 连接线\n",
    "    for line in lines:\n",
    "        x_line, y_line = line.geometry.xy\n",
    "        ax.plot(x_line, y_line, color=\"magenta\", linewidth=1.5)\n",
    "\n",
    "    print(f\"Total parts: {len(schema.point_candidates)+len(schema.line_candidates)}\")\n",
    "    return schema"
   ]
  },
  {
   "cell_type": "markdown",
   "id": "dbc0b639",
   "metadata": {},
   "source": [
    "下面是带优先级的效果"
   ]
  },
  {
   "cell_type": "code",
   "execution_count": null,
   "id": "ec8dcec9",
   "metadata": {},
   "outputs": [],
   "source": [
    "schema = test_from_json(os.path.join(\"real_data\", \"N03-成品图-主视图_schema.json\"))"
   ]
  },
  {
   "cell_type": "code",
   "execution_count": null,
   "id": "1854fb88",
   "metadata": {},
   "outputs": [],
   "source": [
    "test_from_json(os.path.join(\"real_data\", \"N04-成品图-主视图_schema.json\"))"
   ]
  },
  {
   "cell_type": "code",
   "execution_count": null,
   "id": "04c674a6",
   "metadata": {},
   "outputs": [],
   "source": [
    "test_from_json(os.path.join(\"real_data\", \"N05-成品图-主视图_schema.json\"))"
   ]
  },
  {
   "cell_type": "code",
   "execution_count": null,
   "id": "229bb7cd",
   "metadata": {},
   "outputs": [],
   "source": [
    "test_from_json(os.path.join(\"real_data\", \"N06-成品图-主视图_schema.json\"))"
   ]
  },
  {
   "cell_type": "code",
   "execution_count": null,
   "id": "f4f1e2ee",
   "metadata": {},
   "outputs": [],
   "source": [
    "test_from_json(os.path.join(\"real_data\", \"N07-成品图-主视图_schema.json\"))"
   ]
  },
  {
   "cell_type": "code",
   "execution_count": null,
   "id": "a351d6c1",
   "metadata": {},
   "outputs": [],
   "source": [
    "test_from_json(os.path.join(\"real_data\", \"N11-成品图-主视图_schema.json\"))"
   ]
  },
  {
   "cell_type": "code",
   "execution_count": null,
   "id": "70190ac5",
   "metadata": {},
   "outputs": [],
   "source": [
    "test_from_json(os.path.join(\"real_data\", \"N12-成品图-主视图_schema.json\"))"
   ]
  },
  {
   "cell_type": "code",
   "execution_count": null,
   "id": "463b3ed6",
   "metadata": {},
   "outputs": [],
   "source": [
    "geometries = []\n",
    "for line_candidate in schema.line_candidates:\n",
    "    if line_candidate.part_id in []:\n",
    "        for line in line_candidate.lines:\n",
    "            geometries.append(line.geometry)\n",
    "        for point_candidate in line_candidate.to_point_candidate_v2().points:\n",
    "            geometries.append(point_candidate.geometry)\n",
    "plot_geometries(geometries)"
   ]
  },
  {
   "cell_type": "markdown",
   "id": "8ec96e1d",
   "metadata": {},
   "source": [
    "假设有：\n",
    "- 一系列矩形(`Polygon`)。\n",
    "- 一条或多条直线(`LineString`)。\n",
    "\n",
    "想找出哪些矩形与直线相交。直接循环所有矩形会慢，**STRtree 可以加速**：\n",
    "\n",
    "1. 把矩形构建成 **STRtree** 索引。\n",
    "2. 对每条直线调用 `query`，只返回可能相交的矩形。\n",
    "3. 再用 `.intersects()` 精确判断实际相交的矩形。"
   ]
  },
  {
   "cell_type": "code",
   "execution_count": null,
   "id": "f09937ee",
   "metadata": {},
   "outputs": [],
   "source": [
    "import numpy as np\n",
    "from shapely.geometry import box, LineString\n",
    "from shapely import STRtree\n",
    "import matplotlib.pyplot as plt\n",
    "\n",
    "# 生成100个随机矩形(在[0,10]x[0,10]区域内)\n",
    "np.random.seed(42)  # 为可重复性设置种子\n",
    "n_rects = 100\n",
    "rects = []\n",
    "for _ in range(n_rects):\n",
    "    x = np.random.uniform(0, 10)\n",
    "    y = np.random.uniform(0, 10)\n",
    "    w = np.random.uniform(0.1, 1)\n",
    "    h = np.random.uniform(0.1, 1)\n",
    "    rects.append(box(x, y, x + w, y + h))\n",
    "\n",
    "# 创建STRtree(Shapely的R-Tree实现)\n",
    "index = STRtree(rects)\n",
    "\n",
    "# 创建一条示例线段\n",
    "line = LineString([(2, 2), (8, 8)])\n",
    "\n",
    "# 查询与线段可能碰撞(相交)的矩形，返回的是索引\n",
    "hit_indices = index.query(line)\n",
    "# 根据索引获取实际的矩形几何对象\n",
    "hits = [rects[i] for i in hit_indices]\n",
    "print(f\"查询到的可能碰撞矩形数量: {len(hits)}\")\n",
    "\n",
    "# 可视化\n",
    "fig, ax = plt.subplots(figsize=(10, 10))\n",
    "# 绘制所有矩形(蓝色，细线)\n",
    "for rect in rects:\n",
    "    x, y = rect.exterior.xy\n",
    "    ax.plot(x, y, \"b-\", linewidth=0.5, alpha=0.7)\n",
    "\n",
    "# 绘制可能碰撞的矩形(红色，粗线)\n",
    "for hit in hits:\n",
    "    x, y = hit.exterior.xy\n",
    "    ax.plot(x, y, \"r-\", linewidth=2)\n",
    "\n",
    "# 绘制线段(绿色，粗线)\n",
    "line_x, line_y = line.xy\n",
    "ax.plot(line_x, line_y, \"g-\", linewidth=3)\n",
    "\n",
    "ax.set_xlim(0, 10)\n",
    "ax.set_ylim(0, 10)\n",
    "ax.set_aspect(\"equal\")\n",
    "ax.set_title(\"R-Tree查询: 所有矩形(蓝)、可能碰撞矩形(红)和线段(绿)\")\n",
    "plt.show()"
   ]
  }
 ],
 "metadata": {
  "kernelspec": {
   "display_name": ".venv",
   "language": "python",
   "name": "python3"
  },
  "language_info": {
   "codemirror_mode": {
    "name": "ipython",
    "version": 3
   },
   "file_extension": ".py",
   "mimetype": "text/x-python",
   "name": "python",
   "nbconvert_exporter": "python",
   "pygments_lexer": "ipython3",
   "version": "3.13.7"
  }
 },
 "nbformat": 4,
 "nbformat_minor": 5
}
