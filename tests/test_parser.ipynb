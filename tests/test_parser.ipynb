{
    "cells": [
        {
            "cell_type": "code",
            "execution_count": null,
            "id": "2d9de774",
            "metadata": {},
            "outputs": [],
            "source": [
                "import sys\n",
                "import os\n",
                "\n",
                "# 添加 src 到路径, 便于导入\n",
                "sys.path.append(os.path.abspath(os.path.join(os.path.dirname(\"__file__\"), \"../src\")))\n",
                "\n",
                "%matplotlib widget\n",
                "import matplotlib.pyplot as plt\n",
                "\n",
                "import json\n",
                "\n",
                "from shapely.geometry import Point, Polygon, LineString, box\n",
                "import math\n",
                "import numpy as np\n",
                "import re\n",
                "from rich import print\n",
                "\n",
                "# 自定义模块导入\n",
                "from display_class import *\n",
                "from CADAlgo.check import *\n",
                "from CADAlgo.generate import *\n",
                "from CADAlgo.parser import *"
            ]
        },
        {
            "cell_type": "code",
            "execution_count": null,
            "id": "6a951565",
            "metadata": {},
            "outputs": [],
            "source": [
                "with open(\"传参数\\\\N02主视图.json\", \"r\", encoding=\"utf-8\") as f:\n",
                "    data = json.load(f)\n",
                "\n",
                "schema = parse_schema(data)\n",
                "schema.schema_name = \"_N02_front_view\""
            ]
        },
        {
            "cell_type": "code",
            "execution_count": null,
            "id": "7d43b932",
            "metadata": {},
            "outputs": [],
            "source": [
                "_, _ = plot_schema(schema)"
            ]
        },
        {
            "cell_type": "code",
            "execution_count": null,
            "id": "d64c32f4",
            "metadata": {},
            "outputs": [],
            "source": [
                "candidates = schema.point_candidates\n",
                "exterior = schema.target_exterior\n",
                "obstacles = [obstacle_box.geometry for obstacle_box in schema.obstacle_boxes]\n",
                "samples_distance = 5\n",
                "lines = generate_connection_lines_from_point_candidates(\n",
                "    candidates,[], exterior, obstacles, dispel_lines=[], samples_distance=samples_distance\n",
                ")"
            ]
        },
        {
            "cell_type": "code",
            "execution_count": null,
            "id": "f85d324b",
            "metadata": {},
            "outputs": [],
            "source": [
                "fig, ax = plot_schema(schema)\n",
                "\n",
                "# 连接线\n",
                "for line in lines:\n",
                "    x_line, y_line = line.xy\n",
                "    ax.plot(x_line, y_line, color=\"magenta\", linewidth=1.5)"
            ]
        },
        {
            "cell_type": "markdown",
            "id": "66a2ad92",
            "metadata": {},
            "source": [
                "**解析障碍物盒子**"
            ]
        },
        {
            "cell_type": "code",
            "execution_count": null,
            "id": "0aa56c89",
            "metadata": {},
            "outputs": [],
            "source": [
                "with open(\"block_boxes.txt\", \"r\", encoding=\"utf-8\") as f:\n",
                "    raw_data = f.read()\n",
                "\n",
                "# 解析每一行\n",
                "obstacle_boxes = []\n",
                "\n",
                "for line in raw_data.splitlines():\n",
                "    # 找出每行的四个坐标点\n",
                "    matches = re.findall(r\"\\((-?\\d+(?:\\.\\d+)?),\\s*(-?\\d+(?:\\.\\d+)?)\\)\", line)\n",
                "    if len(matches) != 4:\n",
                "        raise Exception(\"没有四个!\")\n",
                "\n",
                "    # 转为 float\n",
                "    points = [(float(x), float(y)) for x, y in matches]\n",
                "\n",
                "    # 构造 box 对象\n",
                "    box = {\n",
                "        \"a\": {\"x\": points[0][0], \"y\": points[0][1]},\n",
                "        \"b\": {\"x\": points[1][0], \"y\": points[1][1]},\n",
                "        \"c\": {\"x\": points[2][0], \"y\": points[2][1]},\n",
                "        \"d\": {\"x\": points[3][0], \"y\": points[3][1]},\n",
                "    }\n",
                "\n",
                "    obstacle_boxes.append(box)\n",
                "\n",
                "# 最终结果\n",
                "block_boxes_result = {\"obstacle_box\": obstacle_boxes}\n",
                "block_boxes_result_json = json.dumps(block_boxes_result, indent=2)\n",
                "# print(block_boxes_result)"
            ]
        },
        {
            "cell_type": "markdown",
            "id": "5aaccd2c",
            "metadata": {},
            "source": [
                "**解析障碍物线**"
            ]
        },
        {
            "cell_type": "code",
            "execution_count": null,
            "id": "fcce329c",
            "metadata": {},
            "outputs": [],
            "source": [
                "import json\n",
                "import re\n",
                "\n",
                "barrier_lines = []\n",
                "\n",
                "with open(\"block_lines.txt\", \"r\", encoding=\"utf-8\") as f:\n",
                "    for line in f:\n",
                "        line = line.strip()\n",
                "        if not line:\n",
                "            continue  # 跳过空行\n",
                "\n",
                "        # 匹配一行中的两个点\n",
                "        match = re.match(r\"\\(([^,]+),\\s*([^)]+)\\),\\s*\\(([^,]+),\\s*([^)]+)\\)\", line)\n",
                "        if match:\n",
                "            x1, y1, x2, y2 = map(float, match.groups())\n",
                "            barrier_lines.append({\"x1\": x1, \"y1\": y1, \"x2\": x2, \"y2\": y2})\n",
                "        else:\n",
                "            print(f\"格式不匹配: {line}\")\n",
                "\n",
                "obstacle_box_result = {\"barrier_line\": barrier_lines}\n",
                "\n",
                "# 输出 JSON 字符串, 格式化缩进\n",
                "obstacle_box_result_str = json.dumps(obstacle_box_result, indent=2, ensure_ascii=False)\n",
                "\n",
                "# print(obstacle_box_result_str)"
            ]
        },
        {
            "cell_type": "code",
            "execution_count": null,
            "id": "4a6f8dd3",
            "metadata": {},
            "outputs": [],
            "source": [
                "points = []\n",
                "\n",
                "with open(\"box_edges.txt\", \"r\", encoding=\"utf-8\") as f:\n",
                "    for line in f:\n",
                "        line = line.strip()\n",
                "        if not line:\n",
                "            continue\n",
                "\n",
                "        # 匹配 (x, y)\n",
                "        match = re.match(r\"\\(([^,]+),\\s*([^)]+)\\)\", line)\n",
                "        if match:\n",
                "            x_str, y_str = match.groups()\n",
                "            point = {\"x\": float(x_str), \"y\": float(y_str)}\n",
                "            points.append(point)\n",
                "        else:\n",
                "            print(f\"格式不匹配: {line}\")\n",
                "\n",
                "# 生成目标结构\n",
                "exterior_result_dict = {\"target_exterior\": points}\n",
                "\n",
                "# 输出为格式化 JSON 字符串\n",
                "json_str = json.dumps(exterior_result_dict, indent=2, ensure_ascii=False)\n",
                "# print(exterior_result_dict)"
            ]
        },
        {
            "cell_type": "code",
            "execution_count": null,
            "id": "e7d64432",
            "metadata": {},
            "outputs": [],
            "source": [
                "with open(\"parts.txt\", \"r\", encoding=\"utf-8\") as f:\n",
                "    raw_text = f.read()\n",
                "\n",
                "lines = raw_text.strip().splitlines()\n",
                "part_data = {\"line_candidates\": [], \"point_candidates\": []}\n",
                "\n",
                "i = 0\n",
                "while i < len(lines):\n",
                "    header_match = re.match(r\"(\\d+)\\s+(\\d+)\\s+(\\d+)\", lines[i])\n",
                "    if not header_match:\n",
                "        i += 1\n",
                "        continue\n",
                "\n",
                "    part_index, point_count, line_count = map(int, header_match.groups())\n",
                "    part_name = f\"零件{part_index}\"\n",
                "    i += 1\n",
                "\n",
                "    if point_count > 0:\n",
                "        points = []\n",
                "        for _ in range(point_count):\n",
                "            point_match = re.findall(r\"\\(([^)]+)\\)\", lines[i])\n",
                "            if point_match:\n",
                "                x, y = map(float, point_match[0].split(\",\"))\n",
                "                points.append({\"x\": x, \"y\": y})\n",
                "            i += 1\n",
                "        part_data[\"point_candidates\"].append({\"part_name\": part_name, \"points\": points})\n",
                "\n",
                "    elif line_count > 0:\n",
                "        lines_list = []\n",
                "        for _ in range(line_count):\n",
                "            line_match = re.findall(r\"\\(([^)]+)\\)\", lines[i])\n",
                "            if len(line_match) == 2:\n",
                "                x1, y1 = map(float, line_match[0].split(\",\"))\n",
                "                x2, y2 = map(float, line_match[1].split(\",\"))\n",
                "                lines_list.append({\"x1\": x1, \"y1\": y1, \"x2\": x2, \"y2\": y2})\n",
                "            i += 1\n",
                "        part_data[\"line_candidates\"].append(\n",
                "            {\"part_name\": part_name, \"lines\": lines_list}\n",
                "        )\n",
                "\n",
                "# 构建最终 JSON 结构\n",
                "part_output_dict = {\"part\": part_data}\n",
                "\n",
                "# 显示为字符串(可选：保存为文件)\n",
                "# print(json.dumps(part_output_dict, indent=2, ensure_ascii=False))"
            ]
        },
        {
            "cell_type": "code",
            "execution_count": null,
            "id": "3cf549c2",
            "metadata": {},
            "outputs": [],
            "source": [
                "final_result_dict = {\n",
                "    \"schema_name\": \"_N11_front_view\",\n",
                "    **block_boxes_result,\n",
                "    **obstacle_box_result,\n",
                "    **exterior_result_dict,\n",
                "    **part_output_dict,\n",
                "}\n",
                "# print(final_result_dict)"
            ]
        },
        {
            "cell_type": "code",
            "execution_count": null,
            "id": "b7e65e14",
            "metadata": {},
            "outputs": [],
            "source": [
                "with open(\"result.json\", \"w\", encoding=\"utf-8\") as f:\n",
                "    json.dump(final_result_dict, f, ensure_ascii=False, indent=2)"
            ]
        },
        {
            "cell_type": "code",
            "execution_count": null,
            "id": "9840f31d",
            "metadata": {},
            "outputs": [],
            "source": [
                "schema = parse_schema(final_result_dict)"
            ]
        },
        {
            "cell_type": "code",
            "execution_count": null,
            "id": "af6b859c",
            "metadata": {},
            "outputs": [],
            "source": [
                "_, _ = plot_schema(schema)"
            ]
        },
        {
            "cell_type": "code",
            "execution_count": null,
            "id": "7c3dc9ca",
            "metadata": {},
            "outputs": [],
            "source": [
                "candidates = schema.point_candidates\n",
                "exterior = schema.target_exterior\n",
                "obstacles = [obstacle_box.geometry for obstacle_box in schema.obstacle_boxes]\n",
                "samples_distance = 7\n",
                "lines = generate_connection_lines_from_point_candidates(\n",
                "    candidates,[], exterior, obstacles,dispel_lines=[], samples_distance=samples_distance\n",
                ")\n",
                "\n",
                "fig, ax = plot_schema(schema)\n",
                "\n",
                "# 连接线\n",
                "for line in lines:\n",
                "    x_line, y_line = line.xy\n",
                "    ax.plot(x_line, y_line, color=\"magenta\", linewidth=1.5)"
            ]
        },
        {
            "cell_type": "code",
            "execution_count": null,
            "id": "d744368d",
            "metadata": {},
            "outputs": [],
            "source": [
                "line_candidate: list[LineString] = []\n",
                "for my_line in schema.line_candidates[:]:\n",
                "    for l in my_line.lines:\n",
                "        line_candidate.append(l.geometry)\n",
                "\n",
                "line_point_samples = interpolate_whole_path(line_candidate, 10)\n",
                "\n",
                "plot_geometries([*line_candidate, *line_point_samples])"
            ]
        },
        {
            "cell_type": "code",
            "execution_count": null,
            "id": "d88cf9e0",
            "metadata": {},
            "outputs": [],
            "source": [
                "candidates = schema.point_candidates\n",
                "\n",
                "exterior = schema.target_exterior\n",
                "obstacles = [obstacle_box.geometry for obstacle_box in schema.obstacle_boxes]\n",
                "samples_distance = 7\n",
                "lines = generate_connection_lines_from_point_candidates(\n",
                "    candidates, schema.line_candidates, exterior, obstacles,dispel_lines=[], samples_distance=samples_distance\n",
                ")\n",
                "\n",
                "fig, ax = plot_schema(schema)\n",
                "\n",
                "# 连接线\n",
                "for line in lines:\n",
                "    x_line, y_line = line.xy\n",
                "    ax.plot(x_line, y_line, color=\"magenta\", linewidth=1.5)"
            ]
        }
    ],
    "metadata": {
        "kernelspec": {
            "display_name": ".venv",
            "language": "python",
            "name": "python3"
        },
        "language_info": {
            "codemirror_mode": {
                "name": "ipython",
                "version": 3
            },
            "file_extension": ".py",
            "mimetype": "text/x-python",
            "name": "python",
            "nbconvert_exporter": "python",
            "pygments_lexer": "ipython3",
            "version": "3.13.7"
        }
    },
    "nbformat": 4,
    "nbformat_minor": 5
}
